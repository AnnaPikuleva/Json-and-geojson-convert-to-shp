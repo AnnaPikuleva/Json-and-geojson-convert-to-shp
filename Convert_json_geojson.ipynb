{
  "cells": [
    {
      "cell_type": "code",
      "execution_count": null,
      "metadata": {
        "colab": {
          "base_uri": "https://localhost:8080/"
        },
        "id": "uXLGRE7O5grJ",
        "outputId": "fd68dc82-58fb-4dc6-cabe-1959199dd310"
      },
      "outputs": [
        {
          "output_type": "stream",
          "name": "stdout",
          "text": [
            "Collecting geojson\n",
            "  Downloading geojson-2.5.0-py2.py3-none-any.whl (14 kB)\n",
            "Installing collected packages: geojson\n",
            "Successfully installed geojson-2.5.0\n"
          ]
        }
      ],
      "source": [
        "pip install geojson"
      ]
    },
    {
      "cell_type": "code",
      "execution_count": null,
      "metadata": {
        "id": "Uef4TEu1LBi-"
      },
      "outputs": [],
      "source": [
        "#Geojson to json"
      ]
    },
    {
      "cell_type": "code",
      "execution_count": null,
      "metadata": {
        "colab": {
          "base_uri": "https://localhost:8080/"
        },
        "id": "vaPZgfZAI0Ti",
        "outputId": "9ff88e44-bb86-43ed-dfd7-c5482fce3176"
      },
      "outputs": [
        {
          "name": "stdout",
          "output_type": "stream",
          "text": [
            "Введите путь для сохарнения json файла/content/admin_level\n"
          ]
        }
      ],
      "source": [
        "import json\n",
        "from shapely.geometry import shape, mapping, LineString\n",
        "\n",
        "inputPath = '/content/admin_level_4.geojson'\n",
        "outputPath = input ('Введите путь для сохарнения json файла')\n",
        "\n",
        "with open(inputPath, 'r', encoding = 'utf-8') as file,\\\n",
        "        open (outputPath, 'w', encoding = 'utf-8') as outputfile:\n",
        "    data=json.load(file)\n",
        "\n",
        "    for feature in data.get('features'):\n",
        "        geom=shape(feature.get('geometry'))\n",
        "        \n",
        "    json.dump(data, outputfile)"
      ]
    },
    {
      "cell_type": "code",
      "execution_count": null,
      "metadata": {
        "id": "KnSAMt02Lew2"
      },
      "outputs": [],
      "source": [
        "#Json to geojson"
      ]
    },
    {
      "cell_type": "code",
      "execution_count": null,
      "metadata": {
        "colab": {
          "base_uri": "https://localhost:8080/"
        },
        "id": "1vxBOP4_LFkk",
        "outputId": "f9862883-b36b-4d79-d35b-abb0d193e1b6"
      },
      "outputs": [
        {
          "name": "stdout",
          "output_type": "stream",
          "text": [
            "Введите путь json файла/content/admin_level\n",
            "Введите путь для сохарнения geojson файла/content/admin_level_3\n"
          ]
        }
      ],
      "source": [
        "import json\n",
        "from shapely.geometry import shape, mapping, LineString\n",
        "\n",
        "inputPath = input ('Введите путь json файла')\n",
        "outputPath = input ('Введите путь для сохарнения geojson файла')\n",
        "\n",
        "with open(inputPath, 'r', encoding = 'utf-8') as file,\\\n",
        "        open (outputPath, 'w', encoding = 'utf-8') as outputfile:\n",
        "    data=json.load(file)\n",
        "\n",
        "    for feature in data.get('features'):\n",
        "        geom=shape(feature.get('geometry'))\n",
        "        \n",
        "    json.dump(data, outputfile)"
      ]
    },
    {
      "cell_type": "markdown",
      "metadata": {
        "id": "Ug5H4J5wyqDw"
      },
      "source": [
        ""
      ]
    }
  ],
  "metadata": {
    "colab": {
      "collapsed_sections": [],
      "name": "Convert_json_geojson.ipynb",
      "provenance": []
    },
    "kernelspec": {
      "display_name": "Python 3",
      "name": "python3"
    },
    "language_info": {
      "name": "python"
    }
  },
  "nbformat": 4,
  "nbformat_minor": 0
}