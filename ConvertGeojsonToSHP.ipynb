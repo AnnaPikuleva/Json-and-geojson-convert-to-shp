{
  "nbformat": 4,
  "nbformat_minor": 0,
  "metadata": {
    "colab": {
      "name": "ConvertGeojsonToSHP.ipynb",
      "provenance": [],
      "collapsed_sections": []
    },
    "kernelspec": {
      "name": "python3",
      "display_name": "Python 3"
    },
    "language_info": {
      "name": "python"
    }
  },
  "cells": [
    {
      "cell_type": "code",
      "execution_count": null,
      "metadata": {
        "colab": {
          "base_uri": "https://localhost:8080/"
        },
        "id": "hyfZlqZayUei",
        "outputId": "4874a441-a223-448f-beb7-8ad78e1fa85f"
      },
      "outputs": [
        {
          "output_type": "stream",
          "name": "stdout",
          "text": [
            "Collecting geopandas\n",
            "  Downloading geopandas-0.10.2-py2.py3-none-any.whl (1.0 MB)\n",
            "\u001b[?25l\r\u001b[K     |▎                               | 10 kB 21.8 MB/s eta 0:00:01\r\u001b[K     |▋                               | 20 kB 27.6 MB/s eta 0:00:01\r\u001b[K     |█                               | 30 kB 30.9 MB/s eta 0:00:01\r\u001b[K     |█▎                              | 40 kB 14.5 MB/s eta 0:00:01\r\u001b[K     |█▋                              | 51 kB 14.6 MB/s eta 0:00:01\r\u001b[K     |██                              | 61 kB 16.7 MB/s eta 0:00:01\r\u001b[K     |██▎                             | 71 kB 14.0 MB/s eta 0:00:01\r\u001b[K     |██▌                             | 81 kB 12.3 MB/s eta 0:00:01\r\u001b[K     |██▉                             | 92 kB 13.5 MB/s eta 0:00:01\r\u001b[K     |███▏                            | 102 kB 14.5 MB/s eta 0:00:01\r\u001b[K     |███▌                            | 112 kB 14.5 MB/s eta 0:00:01\r\u001b[K     |███▉                            | 122 kB 14.5 MB/s eta 0:00:01\r\u001b[K     |████▏                           | 133 kB 14.5 MB/s eta 0:00:01\r\u001b[K     |████▌                           | 143 kB 14.5 MB/s eta 0:00:01\r\u001b[K     |████▊                           | 153 kB 14.5 MB/s eta 0:00:01\r\u001b[K     |█████                           | 163 kB 14.5 MB/s eta 0:00:01\r\u001b[K     |█████▍                          | 174 kB 14.5 MB/s eta 0:00:01\r\u001b[K     |█████▊                          | 184 kB 14.5 MB/s eta 0:00:01\r\u001b[K     |██████                          | 194 kB 14.5 MB/s eta 0:00:01\r\u001b[K     |██████▍                         | 204 kB 14.5 MB/s eta 0:00:01\r\u001b[K     |██████▊                         | 215 kB 14.5 MB/s eta 0:00:01\r\u001b[K     |███████                         | 225 kB 14.5 MB/s eta 0:00:01\r\u001b[K     |███████▎                        | 235 kB 14.5 MB/s eta 0:00:01\r\u001b[K     |███████▋                        | 245 kB 14.5 MB/s eta 0:00:01\r\u001b[K     |████████                        | 256 kB 14.5 MB/s eta 0:00:01\r\u001b[K     |████████▎                       | 266 kB 14.5 MB/s eta 0:00:01\r\u001b[K     |████████▋                       | 276 kB 14.5 MB/s eta 0:00:01\r\u001b[K     |█████████                       | 286 kB 14.5 MB/s eta 0:00:01\r\u001b[K     |█████████▏                      | 296 kB 14.5 MB/s eta 0:00:01\r\u001b[K     |█████████▌                      | 307 kB 14.5 MB/s eta 0:00:01\r\u001b[K     |█████████▉                      | 317 kB 14.5 MB/s eta 0:00:01\r\u001b[K     |██████████▏                     | 327 kB 14.5 MB/s eta 0:00:01\r\u001b[K     |██████████▌                     | 337 kB 14.5 MB/s eta 0:00:01\r\u001b[K     |██████████▉                     | 348 kB 14.5 MB/s eta 0:00:01\r\u001b[K     |███████████▏                    | 358 kB 14.5 MB/s eta 0:00:01\r\u001b[K     |███████████▍                    | 368 kB 14.5 MB/s eta 0:00:01\r\u001b[K     |███████████▊                    | 378 kB 14.5 MB/s eta 0:00:01\r\u001b[K     |████████████                    | 389 kB 14.5 MB/s eta 0:00:01\r\u001b[K     |████████████▍                   | 399 kB 14.5 MB/s eta 0:00:01\r\u001b[K     |████████████▊                   | 409 kB 14.5 MB/s eta 0:00:01\r\u001b[K     |█████████████                   | 419 kB 14.5 MB/s eta 0:00:01\r\u001b[K     |█████████████▍                  | 430 kB 14.5 MB/s eta 0:00:01\r\u001b[K     |█████████████▋                  | 440 kB 14.5 MB/s eta 0:00:01\r\u001b[K     |██████████████                  | 450 kB 14.5 MB/s eta 0:00:01\r\u001b[K     |██████████████▎                 | 460 kB 14.5 MB/s eta 0:00:01\r\u001b[K     |██████████████▋                 | 471 kB 14.5 MB/s eta 0:00:01\r\u001b[K     |███████████████                 | 481 kB 14.5 MB/s eta 0:00:01\r\u001b[K     |███████████████▎                | 491 kB 14.5 MB/s eta 0:00:01\r\u001b[K     |███████████████▋                | 501 kB 14.5 MB/s eta 0:00:01\r\u001b[K     |███████████████▉                | 512 kB 14.5 MB/s eta 0:00:01\r\u001b[K     |████████████████▏               | 522 kB 14.5 MB/s eta 0:00:01\r\u001b[K     |████████████████▌               | 532 kB 14.5 MB/s eta 0:00:01\r\u001b[K     |████████████████▉               | 542 kB 14.5 MB/s eta 0:00:01\r\u001b[K     |█████████████████▏              | 552 kB 14.5 MB/s eta 0:00:01\r\u001b[K     |█████████████████▌              | 563 kB 14.5 MB/s eta 0:00:01\r\u001b[K     |█████████████████▉              | 573 kB 14.5 MB/s eta 0:00:01\r\u001b[K     |██████████████████              | 583 kB 14.5 MB/s eta 0:00:01\r\u001b[K     |██████████████████▍             | 593 kB 14.5 MB/s eta 0:00:01\r\u001b[K     |██████████████████▊             | 604 kB 14.5 MB/s eta 0:00:01\r\u001b[K     |███████████████████             | 614 kB 14.5 MB/s eta 0:00:01\r\u001b[K     |███████████████████▍            | 624 kB 14.5 MB/s eta 0:00:01\r\u001b[K     |███████████████████▊            | 634 kB 14.5 MB/s eta 0:00:01\r\u001b[K     |████████████████████            | 645 kB 14.5 MB/s eta 0:00:01\r\u001b[K     |████████████████████▎           | 655 kB 14.5 MB/s eta 0:00:01\r\u001b[K     |████████████████████▋           | 665 kB 14.5 MB/s eta 0:00:01\r\u001b[K     |█████████████████████           | 675 kB 14.5 MB/s eta 0:00:01\r\u001b[K     |█████████████████████▎          | 686 kB 14.5 MB/s eta 0:00:01\r\u001b[K     |█████████████████████▋          | 696 kB 14.5 MB/s eta 0:00:01\r\u001b[K     |██████████████████████          | 706 kB 14.5 MB/s eta 0:00:01\r\u001b[K     |██████████████████████▎         | 716 kB 14.5 MB/s eta 0:00:01\r\u001b[K     |██████████████████████▋         | 727 kB 14.5 MB/s eta 0:00:01\r\u001b[K     |██████████████████████▉         | 737 kB 14.5 MB/s eta 0:00:01\r\u001b[K     |███████████████████████▏        | 747 kB 14.5 MB/s eta 0:00:01\r\u001b[K     |███████████████████████▌        | 757 kB 14.5 MB/s eta 0:00:01\r\u001b[K     |███████████████████████▉        | 768 kB 14.5 MB/s eta 0:00:01\r\u001b[K     |████████████████████████▏       | 778 kB 14.5 MB/s eta 0:00:01\r\u001b[K     |████████████████████████▌       | 788 kB 14.5 MB/s eta 0:00:01\r\u001b[K     |████████████████████████▉       | 798 kB 14.5 MB/s eta 0:00:01\r\u001b[K     |█████████████████████████       | 808 kB 14.5 MB/s eta 0:00:01\r\u001b[K     |█████████████████████████▍      | 819 kB 14.5 MB/s eta 0:00:01\r\u001b[K     |█████████████████████████▊      | 829 kB 14.5 MB/s eta 0:00:01\r\u001b[K     |██████████████████████████      | 839 kB 14.5 MB/s eta 0:00:01\r\u001b[K     |██████████████████████████▍     | 849 kB 14.5 MB/s eta 0:00:01\r\u001b[K     |██████████████████████████▊     | 860 kB 14.5 MB/s eta 0:00:01\r\u001b[K     |███████████████████████████     | 870 kB 14.5 MB/s eta 0:00:01\r\u001b[K     |███████████████████████████▎    | 880 kB 14.5 MB/s eta 0:00:01\r\u001b[K     |███████████████████████████▋    | 890 kB 14.5 MB/s eta 0:00:01\r\u001b[K     |████████████████████████████    | 901 kB 14.5 MB/s eta 0:00:01\r\u001b[K     |████████████████████████████▎   | 911 kB 14.5 MB/s eta 0:00:01\r\u001b[K     |████████████████████████████▋   | 921 kB 14.5 MB/s eta 0:00:01\r\u001b[K     |█████████████████████████████   | 931 kB 14.5 MB/s eta 0:00:01\r\u001b[K     |█████████████████████████████▎  | 942 kB 14.5 MB/s eta 0:00:01\r\u001b[K     |█████████████████████████████▌  | 952 kB 14.5 MB/s eta 0:00:01\r\u001b[K     |█████████████████████████████▉  | 962 kB 14.5 MB/s eta 0:00:01\r\u001b[K     |██████████████████████████████▏ | 972 kB 14.5 MB/s eta 0:00:01\r\u001b[K     |██████████████████████████████▌ | 983 kB 14.5 MB/s eta 0:00:01\r\u001b[K     |██████████████████████████████▉ | 993 kB 14.5 MB/s eta 0:00:01\r\u001b[K     |███████████████████████████████▏| 1.0 MB 14.5 MB/s eta 0:00:01\r\u001b[K     |███████████████████████████████▌| 1.0 MB 14.5 MB/s eta 0:00:01\r\u001b[K     |███████████████████████████████▊| 1.0 MB 14.5 MB/s eta 0:00:01\r\u001b[K     |████████████████████████████████| 1.0 MB 14.5 MB/s \n",
            "\u001b[?25hRequirement already satisfied: pandas>=0.25.0 in /usr/local/lib/python3.7/dist-packages (from geopandas) (1.3.5)\n",
            "Collecting fiona>=1.8\n",
            "  Downloading Fiona-1.8.21-cp37-cp37m-manylinux2014_x86_64.whl (16.7 MB)\n",
            "\u001b[K     |████████████████████████████████| 16.7 MB 55.2 MB/s \n",
            "\u001b[?25hCollecting pyproj>=2.2.0\n",
            "  Downloading pyproj-3.2.1-cp37-cp37m-manylinux2010_x86_64.whl (6.3 MB)\n",
            "\u001b[K     |████████████████████████████████| 6.3 MB 66.6 MB/s \n",
            "\u001b[?25hRequirement already satisfied: shapely>=1.6 in /usr/local/lib/python3.7/dist-packages (from geopandas) (1.8.1.post1)\n",
            "Requirement already satisfied: attrs>=17 in /usr/local/lib/python3.7/dist-packages (from fiona>=1.8->geopandas) (21.4.0)\n",
            "Collecting cligj>=0.5\n",
            "  Downloading cligj-0.7.2-py3-none-any.whl (7.1 kB)\n",
            "Requirement already satisfied: setuptools in /usr/local/lib/python3.7/dist-packages (from fiona>=1.8->geopandas) (57.4.0)\n",
            "Requirement already satisfied: six>=1.7 in /usr/local/lib/python3.7/dist-packages (from fiona>=1.8->geopandas) (1.15.0)\n",
            "Collecting munch\n",
            "  Downloading munch-2.5.0-py2.py3-none-any.whl (10 kB)\n",
            "Requirement already satisfied: click>=4.0 in /usr/local/lib/python3.7/dist-packages (from fiona>=1.8->geopandas) (7.1.2)\n",
            "Requirement already satisfied: certifi in /usr/local/lib/python3.7/dist-packages (from fiona>=1.8->geopandas) (2021.10.8)\n",
            "Collecting click-plugins>=1.0\n",
            "  Downloading click_plugins-1.1.1-py2.py3-none-any.whl (7.5 kB)\n",
            "Requirement already satisfied: numpy>=1.17.3 in /usr/local/lib/python3.7/dist-packages (from pandas>=0.25.0->geopandas) (1.21.5)\n",
            "Requirement already satisfied: pytz>=2017.3 in /usr/local/lib/python3.7/dist-packages (from pandas>=0.25.0->geopandas) (2018.9)\n",
            "Requirement already satisfied: python-dateutil>=2.7.3 in /usr/local/lib/python3.7/dist-packages (from pandas>=0.25.0->geopandas) (2.8.2)\n",
            "Installing collected packages: munch, cligj, click-plugins, pyproj, fiona, geopandas\n",
            "Successfully installed click-plugins-1.1.1 cligj-0.7.2 fiona-1.8.21 geopandas-0.10.2 munch-2.5.0 pyproj-3.2.1\n"
          ]
        }
      ],
      "source": [
        "pip install geopandas"
      ]
    },
    {
      "cell_type": "code",
      "source": [
        "import geopandas as gpd\n",
        "import glob\n",
        "import os"
      ],
      "metadata": {
        "id": "LKMYHuxeyjOe"
      },
      "execution_count": null,
      "outputs": []
    },
    {
      "cell_type": "code",
      "source": [
        "from google.colab import drive\n",
        "drive.mount('/content/drive')"
      ],
      "metadata": {
        "id": "4YrB0WVrv5Eg",
        "outputId": "20713975-fb35-4510-bbf3-d6d391986364",
        "colab": {
          "base_uri": "https://localhost:8080/"
        }
      },
      "execution_count": null,
      "outputs": [
        {
          "output_type": "stream",
          "name": "stdout",
          "text": [
            "Mounted at /content/drive\n"
          ]
        }
      ]
    },
    {
      "cell_type": "code",
      "source": [
        "ws = input('Папка geojson файлов')\n",
        "path = input('Введите путь, для создания папки с SHP-файлами')\n",
        "#os.mkdir(path)\n",
        "files = glob.glob(ws + '/*.geojson')\n",
        "\n",
        "for filename in files:\n",
        "  file_name = os.path.basename(filename)\n",
        "  a = os.path.splitext(file_name)[0]\n",
        "  df = gpd.read_file(filename)\n",
        "  shp_file_path = os.path.join(path,a +'.shp')\n",
        "  print(shp_file_path)\n",
        "  df.to_file(shp_file_path) "
      ],
      "metadata": {
        "id": "KMiw-N76w1sQ",
        "outputId": "19b5d4c4-ef8c-4408-887f-a81b9e93c72a",
        "colab": {
          "base_uri": "https://localhost:8080/"
        }
      },
      "execution_count": null,
      "outputs": [
        {
          "output_type": "stream",
          "name": "stdout",
          "text": [
            "Папка geojson файлов/content/drive/MyDrive/geojson\n",
            "Введите путь, для создания папки с SHP-файлами/content/drive/MyDrive/json\n",
            "/content/drive/MyDrive/json/admin_level_4.shp\n"
          ]
        },
        {
          "output_type": "stream",
          "name": "stderr",
          "text": [
            "/usr/local/lib/python3.7/dist-packages/ipykernel_launcher.py:12: UserWarning: Column names longer than 10 characters will be truncated when saved to ESRI Shapefile.\n",
            "  if sys.path[0] == '':\n"
          ]
        },
        {
          "output_type": "stream",
          "name": "stdout",
          "text": [
            "/content/drive/MyDrive/json/admin_level_3.shp\n"
          ]
        },
        {
          "output_type": "stream",
          "name": "stderr",
          "text": [
            "/usr/local/lib/python3.7/dist-packages/ipykernel_launcher.py:12: UserWarning: Column names longer than 10 characters will be truncated when saved to ESRI Shapefile.\n",
            "  if sys.path[0] == '':\n"
          ]
        }
      ]
    }
  ]
}